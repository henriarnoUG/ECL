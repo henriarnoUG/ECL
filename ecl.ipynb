{
 "cells": [
  {
   "cell_type": "code",
   "execution_count": 1,
   "id": "1f8dea3a",
   "metadata": {},
   "outputs": [],
   "source": [
    "# import\n",
    "from utils import *\n",
    "\n",
    "# filter the warnings for clarity\n",
    "import warnings\n",
    "warnings.filterwarnings(\"ignore\")"
   ]
  },
  {
   "cell_type": "markdown",
   "id": "6e6e451b",
   "metadata": {},
   "source": [
    "In this notebook, we show how to reconstruct the ECL benchmark dataset. This dataset combines three existing data sources: the Edgar corpus, Compustat and the Lopucki bankruptcy research database. Due to the paid access required for Compustat, we are unable to share the complete benchmark dataset. However, here we provide the necessary code that allows you to reconstruct the dataset.\n",
    "\n",
    "In the ECL csv-file, each row corresponds to a 10K filing. Each 10K filing can be matched (1) with a document from the Edgar corpus through the ```filename``` variable and (2) with an entry from Compustat through the ```gvkey``` and ```datadate``` variables. See the repository ```README.md``` for access to the data sources."
   ]
  },
  {
   "cell_type": "code",
   "execution_count": 2,
   "id": "24520c7e",
   "metadata": {
    "scrolled": true
   },
   "outputs": [
    {
     "data": {
      "text/html": [
       "<div>\n",
       "<style scoped>\n",
       "    .dataframe tbody tr th:only-of-type {\n",
       "        vertical-align: middle;\n",
       "    }\n",
       "\n",
       "    .dataframe tbody tr th {\n",
       "        vertical-align: top;\n",
       "    }\n",
       "\n",
       "    .dataframe thead th {\n",
       "        text-align: right;\n",
       "    }\n",
       "</style>\n",
       "<table border=\"1\" class=\"dataframe\">\n",
       "  <thead>\n",
       "    <tr style=\"text-align: right;\">\n",
       "      <th></th>\n",
       "      <th>cik</th>\n",
       "      <th>company</th>\n",
       "      <th>period_of_report</th>\n",
       "      <th>gvkey</th>\n",
       "      <th>datadate</th>\n",
       "      <th>filename</th>\n",
       "      <th>can_label</th>\n",
       "      <th>qualified</th>\n",
       "      <th>label</th>\n",
       "      <th>bankruptcy_prediction_split</th>\n",
       "      <th>bankruptcy_date_1</th>\n",
       "      <th>bankruptcy_date_2</th>\n",
       "      <th>bankruptcy_date_3</th>\n",
       "      <th>filing_date</th>\n",
       "    </tr>\n",
       "  </thead>\n",
       "  <tbody>\n",
       "    <tr>\n",
       "      <th>79825</th>\n",
       "      <td>806388.0</td>\n",
       "      <td>NICHOLS RESEARCH CORP /AL/</td>\n",
       "      <td>1997-08-31</td>\n",
       "      <td>13096.0</td>\n",
       "      <td>31/08/1997</td>\n",
       "      <td>/1997/806388_10K_1997_0000950144-97-012891.json</td>\n",
       "      <td>True</td>\n",
       "      <td>Yes</td>\n",
       "      <td>False</td>\n",
       "      <td>train</td>\n",
       "      <td>NaN</td>\n",
       "      <td>NaN</td>\n",
       "      <td>NaN</td>\n",
       "      <td>1997-11-28</td>\n",
       "    </tr>\n",
       "    <tr>\n",
       "      <th>170650</th>\n",
       "      <td>1020910.0</td>\n",
       "      <td>TRANSCEND THERAPEUTICS INC</td>\n",
       "      <td>1998-12-31</td>\n",
       "      <td>65033.0</td>\n",
       "      <td>31/12/1998</td>\n",
       "      <td>/1998/1020910_10K_1998_0000927016-99-001259.json</td>\n",
       "      <td>True</td>\n",
       "      <td>No</td>\n",
       "      <td>False</td>\n",
       "      <td>out-of-scope</td>\n",
       "      <td>NaN</td>\n",
       "      <td>NaN</td>\n",
       "      <td>NaN</td>\n",
       "      <td>1999-03-31</td>\n",
       "    </tr>\n",
       "    <tr>\n",
       "      <th>205402</th>\n",
       "      <td>1123312.0</td>\n",
       "      <td>YASHENG GROUP</td>\n",
       "      <td>2009-12-31</td>\n",
       "      <td>160362.0</td>\n",
       "      <td>31/12/2009</td>\n",
       "      <td>/2009/1123312_10K_2009_0001199835-10-000484.json</td>\n",
       "      <td>True</td>\n",
       "      <td>Yes</td>\n",
       "      <td>False</td>\n",
       "      <td>train</td>\n",
       "      <td>NaN</td>\n",
       "      <td>NaN</td>\n",
       "      <td>NaN</td>\n",
       "      <td>2010-08-06</td>\n",
       "    </tr>\n",
       "    <tr>\n",
       "      <th>342381</th>\n",
       "      <td>865436.0</td>\n",
       "      <td>WHOLE FOODS MARKET INC</td>\n",
       "      <td>2000-09-24</td>\n",
       "      <td>24893.0</td>\n",
       "      <td>30/09/2000</td>\n",
       "      <td>/2000/865436_10K_2000_0000927356-00-002262.json</td>\n",
       "      <td>True</td>\n",
       "      <td>Yes</td>\n",
       "      <td>False</td>\n",
       "      <td>train</td>\n",
       "      <td>NaN</td>\n",
       "      <td>NaN</td>\n",
       "      <td>NaN</td>\n",
       "      <td>2000-12-22</td>\n",
       "    </tr>\n",
       "    <tr>\n",
       "      <th>148093</th>\n",
       "      <td>934739.0</td>\n",
       "      <td>WELLS FINANCIAL CORP</td>\n",
       "      <td>2001-12-31</td>\n",
       "      <td>31716.0</td>\n",
       "      <td>31/12/2001</td>\n",
       "      <td>/2001/934739_10KSB_2001_0000946275-02-000206.json</td>\n",
       "      <td>True</td>\n",
       "      <td>Yes</td>\n",
       "      <td>False</td>\n",
       "      <td>train</td>\n",
       "      <td>NaN</td>\n",
       "      <td>NaN</td>\n",
       "      <td>NaN</td>\n",
       "      <td>2002-03-28</td>\n",
       "    </tr>\n",
       "  </tbody>\n",
       "</table>\n",
       "</div>"
      ],
      "text/plain": [
       "              cik                     company period_of_report     gvkey  \\\n",
       "79825    806388.0  NICHOLS RESEARCH CORP /AL/       1997-08-31   13096.0   \n",
       "170650  1020910.0  TRANSCEND THERAPEUTICS INC       1998-12-31   65033.0   \n",
       "205402  1123312.0               YASHENG GROUP       2009-12-31  160362.0   \n",
       "342381   865436.0      WHOLE FOODS MARKET INC       2000-09-24   24893.0   \n",
       "148093   934739.0        WELLS FINANCIAL CORP       2001-12-31   31716.0   \n",
       "\n",
       "          datadate                                           filename  \\\n",
       "79825   31/08/1997    /1997/806388_10K_1997_0000950144-97-012891.json   \n",
       "170650  31/12/1998   /1998/1020910_10K_1998_0000927016-99-001259.json   \n",
       "205402  31/12/2009   /2009/1123312_10K_2009_0001199835-10-000484.json   \n",
       "342381  30/09/2000    /2000/865436_10K_2000_0000927356-00-002262.json   \n",
       "148093  31/12/2001  /2001/934739_10KSB_2001_0000946275-02-000206.json   \n",
       "\n",
       "        can_label qualified  label bankruptcy_prediction_split  \\\n",
       "79825        True       Yes  False                       train   \n",
       "170650       True        No  False                out-of-scope   \n",
       "205402       True       Yes  False                       train   \n",
       "342381       True       Yes  False                       train   \n",
       "148093       True       Yes  False                       train   \n",
       "\n",
       "       bankruptcy_date_1 bankruptcy_date_2 bankruptcy_date_3 filing_date  \n",
       "79825                NaN               NaN               NaN  1997-11-28  \n",
       "170650               NaN               NaN               NaN  1999-03-31  \n",
       "205402               NaN               NaN               NaN  2010-08-06  \n",
       "342381               NaN               NaN               NaN  2000-12-22  \n",
       "148093               NaN               NaN               NaN  2002-03-28  "
      ]
     },
     "execution_count": 2,
     "metadata": {},
     "output_type": "execute_result"
    }
   ],
   "source": [
    "# specify path\n",
    "path_ECL = '../bankruptcy research data/ECL.csv' # change path to correct location\n",
    "\n",
    "# read data \n",
    "dataset = pd.read_csv(path_ECL, index_col=0)\n",
    "dataset.sample(5)"
   ]
  },
  {
   "cell_type": "markdown",
   "id": "a2b36b02",
   "metadata": {},
   "source": [
    "#### Match with Compustat through WRDS API"
   ]
  },
  {
   "cell_type": "markdown",
   "id": "02323578",
   "metadata": {},
   "source": [
    "When working with the WRDS API for the Compustat data, the compustat_wrds() function can be used to match these records with the ECL csv-file. This function:\n",
    "- reads the Compustat file from the API (we use the ```comp_na_annual_all``` library and the ```funda``` table)\n",
    "- filters the Compustat file on screening variables (```datafmt```, ```indfmt```, ```consol``` and ```popsrc```)\n",
    "- matches the datasets on the ```gvkey``` and ```datadata``` variables"
   ]
  },
  {
   "cell_type": "code",
   "execution_count": null,
   "id": "ac72aad4",
   "metadata": {},
   "outputs": [],
   "source": [
    "# load data through API\n",
    "username = ''\n",
    "db = wrds.Connection(wrds_username=username)\n",
    "\n",
    "# select desired variables\n",
    "variables = 'ch, dt, act'\n",
    "\n",
    "# match datasets\n",
    "dataset = compustat_wrds(variables, dataset, db)"
   ]
  },
  {
   "cell_type": "code",
   "execution_count": 4,
   "id": "930d50e0",
   "metadata": {},
   "outputs": [
    {
     "data": {
      "text/html": [
       "<div>\n",
       "<style scoped>\n",
       "    .dataframe tbody tr th:only-of-type {\n",
       "        vertical-align: middle;\n",
       "    }\n",
       "\n",
       "    .dataframe tbody tr th {\n",
       "        vertical-align: top;\n",
       "    }\n",
       "\n",
       "    .dataframe thead th {\n",
       "        text-align: right;\n",
       "    }\n",
       "</style>\n",
       "<table border=\"1\" class=\"dataframe\">\n",
       "  <thead>\n",
       "    <tr style=\"text-align: right;\">\n",
       "      <th></th>\n",
       "      <th>cik</th>\n",
       "      <th>company</th>\n",
       "      <th>period_of_report</th>\n",
       "      <th>ch</th>\n",
       "      <th>dt</th>\n",
       "      <th>act</th>\n",
       "    </tr>\n",
       "  </thead>\n",
       "  <tbody>\n",
       "    <tr>\n",
       "      <th>151340</th>\n",
       "      <td>899460.0</td>\n",
       "      <td>MANNKIND CORP</td>\n",
       "      <td>2014-12-31</td>\n",
       "      <td>120.841</td>\n",
       "      <td>148.876</td>\n",
       "      <td>201.153</td>\n",
       "    </tr>\n",
       "    <tr>\n",
       "      <th>99758</th>\n",
       "      <td>54507.0</td>\n",
       "      <td>WESTAR ENERGY INC /KS</td>\n",
       "      <td>2017-12-31</td>\n",
       "      <td>3.432</td>\n",
       "      <td>NaN</td>\n",
       "      <td>727.050</td>\n",
       "    </tr>\n",
       "    <tr>\n",
       "      <th>165235</th>\n",
       "      <td>927472.0</td>\n",
       "      <td>PARABEL INC.</td>\n",
       "      <td>2011-12-31</td>\n",
       "      <td>8.842</td>\n",
       "      <td>0.000</td>\n",
       "      <td>9.812</td>\n",
       "    </tr>\n",
       "    <tr>\n",
       "      <th>22415</th>\n",
       "      <td>60751.0</td>\n",
       "      <td>LUBRIZOL CORP</td>\n",
       "      <td>2007-12-31</td>\n",
       "      <td>502.300</td>\n",
       "      <td>1428.800</td>\n",
       "      <td>1847.300</td>\n",
       "    </tr>\n",
       "    <tr>\n",
       "      <th>69555</th>\n",
       "      <td>1002902.0</td>\n",
       "      <td>UNITED SHIPPING &amp; TECHNOLOGY INC</td>\n",
       "      <td>2000-07-01</td>\n",
       "      <td>3.993</td>\n",
       "      <td>46.662</td>\n",
       "      <td>76.136</td>\n",
       "    </tr>\n",
       "  </tbody>\n",
       "</table>\n",
       "</div>"
      ],
      "text/plain": [
       "              cik                           company period_of_report       ch  \\\n",
       "151340   899460.0                     MANNKIND CORP       2014-12-31  120.841   \n",
       "99758     54507.0             WESTAR ENERGY INC /KS       2017-12-31    3.432   \n",
       "165235   927472.0                      PARABEL INC.       2011-12-31    8.842   \n",
       "22415     60751.0                     LUBRIZOL CORP       2007-12-31  502.300   \n",
       "69555   1002902.0  UNITED SHIPPING & TECHNOLOGY INC       2000-07-01    3.993   \n",
       "\n",
       "              dt       act  \n",
       "151340   148.876   201.153  \n",
       "99758        NaN   727.050  \n",
       "165235     0.000     9.812  \n",
       "22415   1428.800  1847.300  \n",
       "69555     46.662    76.136  "
      ]
     },
     "execution_count": 4,
     "metadata": {},
     "output_type": "execute_result"
    }
   ],
   "source": [
    "# inspect\n",
    "dataset.sample(5)[['cik', 'company', 'period_of_report', 'ch', 'dt', 'act']]"
   ]
  },
  {
   "cell_type": "markdown",
   "id": "b0b0c703",
   "metadata": {},
   "source": [
    "#### Match with local Compustat file"
   ]
  },
  {
   "cell_type": "markdown",
   "id": "a3b4604f",
   "metadata": {},
   "source": [
    "When working with a local copy of the Compustat data, the compustat_local() function can be used to match these records with the ECL csv-file. This function:\n",
    "- reads the local Compustat file\n",
    "- filters the Compustat file on screening variables (```datafmt```, ```indfmt```, ```consol``` and ```popsrc```)\n",
    "- matches the datasets on the ```gvkey``` and ```datadata``` variables"
   ]
  },
  {
   "cell_type": "code",
   "execution_count": 3,
   "id": "9fb63c77",
   "metadata": {
    "scrolled": true
   },
   "outputs": [],
   "source": [
    "# load data and match datasets\n",
    "path = '../bankruptcy research data/Compustat/data.csv' # change path to correct location\n",
    "dataset = compustat_local(path, dataset, update=False)"
   ]
  },
  {
   "cell_type": "code",
   "execution_count": 5,
   "id": "2c851de4",
   "metadata": {},
   "outputs": [
    {
     "data": {
      "text/html": [
       "<div>\n",
       "<style scoped>\n",
       "    .dataframe tbody tr th:only-of-type {\n",
       "        vertical-align: middle;\n",
       "    }\n",
       "\n",
       "    .dataframe tbody tr th {\n",
       "        vertical-align: top;\n",
       "    }\n",
       "\n",
       "    .dataframe thead th {\n",
       "        text-align: right;\n",
       "    }\n",
       "</style>\n",
       "<table border=\"1\" class=\"dataframe\">\n",
       "  <thead>\n",
       "    <tr style=\"text-align: right;\">\n",
       "      <th></th>\n",
       "      <th>cik</th>\n",
       "      <th>company</th>\n",
       "      <th>period_of_report</th>\n",
       "      <th>ch</th>\n",
       "      <th>dt</th>\n",
       "      <th>act</th>\n",
       "    </tr>\n",
       "  </thead>\n",
       "  <tbody>\n",
       "    <tr>\n",
       "      <th>89090</th>\n",
       "      <td>910073.0</td>\n",
       "      <td>NEW YORK COMMUNITY BANCORP INC</td>\n",
       "      <td>2013-12-31</td>\n",
       "      <td>644.550</td>\n",
       "      <td>NaN</td>\n",
       "      <td>NaN</td>\n",
       "    </tr>\n",
       "    <tr>\n",
       "      <th>126645</th>\n",
       "      <td>1088213.0</td>\n",
       "      <td>EMERGENCY FILTRATION PRODUCTS INC/ NV</td>\n",
       "      <td>1999-12-31</td>\n",
       "      <td>0.000</td>\n",
       "      <td>0.000</td>\n",
       "      <td>0.102</td>\n",
       "    </tr>\n",
       "    <tr>\n",
       "      <th>4524</th>\n",
       "      <td>1040441.0</td>\n",
       "      <td>BEVERLY ENTERPRISES INC</td>\n",
       "      <td>2001-12-31</td>\n",
       "      <td>89.343</td>\n",
       "      <td>741.673</td>\n",
       "      <td>524.048</td>\n",
       "    </tr>\n",
       "    <tr>\n",
       "      <th>156785</th>\n",
       "      <td>1537667.0</td>\n",
       "      <td>SELECT INCOME REIT</td>\n",
       "      <td>2014-12-31</td>\n",
       "      <td>13.504</td>\n",
       "      <td>445.816</td>\n",
       "      <td>NaN</td>\n",
       "    </tr>\n",
       "    <tr>\n",
       "      <th>117600</th>\n",
       "      <td>1026650.0</td>\n",
       "      <td>ERESEARCHTECHNOLOGY INC /DE/</td>\n",
       "      <td>2007-12-31</td>\n",
       "      <td>38.082</td>\n",
       "      <td>1.145</td>\n",
       "      <td>78.328</td>\n",
       "    </tr>\n",
       "  </tbody>\n",
       "</table>\n",
       "</div>"
      ],
      "text/plain": [
       "              cik                                company period_of_report  \\\n",
       "89090    910073.0         NEW YORK COMMUNITY BANCORP INC       2013-12-31   \n",
       "126645  1088213.0  EMERGENCY FILTRATION PRODUCTS INC/ NV       1999-12-31   \n",
       "4524    1040441.0                BEVERLY ENTERPRISES INC       2001-12-31   \n",
       "156785  1537667.0                     SELECT INCOME REIT       2014-12-31   \n",
       "117600  1026650.0           ERESEARCHTECHNOLOGY INC /DE/       2007-12-31   \n",
       "\n",
       "             ch       dt      act  \n",
       "89090   644.550      NaN      NaN  \n",
       "126645    0.000    0.000    0.102  \n",
       "4524     89.343  741.673  524.048  \n",
       "156785   13.504  445.816      NaN  \n",
       "117600   38.082    1.145   78.328  "
      ]
     },
     "execution_count": 5,
     "metadata": {},
     "output_type": "execute_result"
    }
   ],
   "source": [
    "# inspect\n",
    "dataset.sample(5)[['cik', 'company', 'period_of_report', 'ch', 'dt', 'act']]"
   ]
  },
  {
   "cell_type": "markdown",
   "id": "4950d389",
   "metadata": {},
   "source": [
    "#### Match with Edgar corpus"
   ]
  },
  {
   "cell_type": "markdown",
   "id": "bd0f190d",
   "metadata": {},
   "source": [
    "The ECL data can be matched with a document in the Edgar corpus through the ```filename``` variable."
   ]
  },
  {
   "cell_type": "code",
   "execution_count": 6,
   "id": "61be46f2",
   "metadata": {},
   "outputs": [],
   "source": [
    "# get filename for example company\n",
    "corpus_path = '../bankruptcy research data/original_corpus'\n",
    "file = dataset.loc[dataset['cik'] == 1318605, 'filename'].iloc[-1]\n",
    "\n",
    "# read\n",
    "with open(corpus_path + file) as fp:\n",
    "    text = json.load(fp)"
   ]
  },
  {
   "cell_type": "code",
   "execution_count": 7,
   "id": "ba6696fa",
   "metadata": {
    "scrolled": false
   },
   "outputs": [
    {
     "name": "stdout",
     "output_type": "stream",
     "text": [
      "Our mission is to accelerate the world’s transition to sustainable energy. We design, develop, manufacture, lease and sell high-performance fully electric vehicles, solar energy generation systems and energy storage products. We also offer maintenance, installation, operation, financial and other services related to our products. Additionally, we are increasingly focused on products and services based on artificial intelligence, robotics and automation.\n",
      "In 2022, we produced 1,369,611 consumer vehicles and delivered 1,313,851 consumer vehicles, despite ongoing supply chain and logistics challenges and factory shutdowns. We are currently focused on increasing vehicle production, capacity and delivery capabilities, improving and developing battery technologies, improving our FSD capabilities, increasing the affordability and efficiency of our vehicles, bringing new products to market and ...\n"
     ]
    }
   ],
   "source": [
    "# inspect\n",
    "print(text['item_7'][802:1700] + '...')"
   ]
  },
  {
   "cell_type": "code",
   "execution_count": null,
   "id": "b1884f4c",
   "metadata": {},
   "outputs": [],
   "source": []
  }
 ],
 "metadata": {
  "kernelspec": {
   "display_name": "Python 3 (ipykernel)",
   "language": "python",
   "name": "python3"
  },
  "language_info": {
   "codemirror_mode": {
    "name": "ipython",
    "version": 3
   },
   "file_extension": ".py",
   "mimetype": "text/x-python",
   "name": "python",
   "nbconvert_exporter": "python",
   "pygments_lexer": "ipython3",
   "version": "3.8.8"
  }
 },
 "nbformat": 4,
 "nbformat_minor": 5
}
