{
 "cells": [
  {
   "cell_type": "code",
   "execution_count": 1,
   "id": "1f8dea3a",
   "metadata": {},
   "outputs": [],
   "source": [
    "# import library\n",
    "from library import *\n",
    "\n",
    "# filter the warnings for clarity\n",
    "import warnings\n",
    "warnings.filterwarnings(\"ignore\")"
   ]
  },
  {
   "cell_type": "markdown",
   "id": "6e6e451b",
   "metadata": {},
   "source": [
    "In this notebook, we show how to reconstruct the ECL benchmark dataset. This dataset combines three existing data sources: the Edgar corpus, Compustat and the Lopucki bankruptcy research database. Due to the paid access required for Compustat, we are unable to share the complete benchmark dataset. However, here we provide the necessary code that allows you to reconstruct the dataset.\n",
    "\n",
    "In the ECL csv-file (see the repository readme), each row corresponds to a 10K filing. Each 10K filing can be matched (1) with a document from the Edgar corpus through the ```filename``` variable and (2) with an entry from Compustat through the ```gvkey``` and ```datadate``` variables. See the repository readme for access to the Edgar corpus and Compustat."
   ]
  },
  {
   "cell_type": "code",
   "execution_count": 2,
   "id": "24520c7e",
   "metadata": {
    "scrolled": true
   },
   "outputs": [
    {
     "data": {
      "text/html": [
       "<div>\n",
       "<style scoped>\n",
       "    .dataframe tbody tr th:only-of-type {\n",
       "        vertical-align: middle;\n",
       "    }\n",
       "\n",
       "    .dataframe tbody tr th {\n",
       "        vertical-align: top;\n",
       "    }\n",
       "\n",
       "    .dataframe thead th {\n",
       "        text-align: right;\n",
       "    }\n",
       "</style>\n",
       "<table border=\"1\" class=\"dataframe\">\n",
       "  <thead>\n",
       "    <tr style=\"text-align: right;\">\n",
       "      <th></th>\n",
       "      <th>cik</th>\n",
       "      <th>company</th>\n",
       "      <th>period_of_report</th>\n",
       "      <th>gvkey</th>\n",
       "      <th>datadate</th>\n",
       "      <th>filename</th>\n",
       "      <th>can_label</th>\n",
       "      <th>qualified</th>\n",
       "      <th>label</th>\n",
       "      <th>bankruptcy_prediction_split</th>\n",
       "      <th>bankruptcy_date_1</th>\n",
       "      <th>bankruptcy_date_2</th>\n",
       "      <th>bankruptcy_date_3</th>\n",
       "      <th>filing_date</th>\n",
       "    </tr>\n",
       "  </thead>\n",
       "  <tbody>\n",
       "    <tr>\n",
       "      <th>69844</th>\n",
       "      <td>731766.0</td>\n",
       "      <td>UNITEDHEALTH GROUP INC</td>\n",
       "      <td>2015-12-31</td>\n",
       "      <td>10903.0</td>\n",
       "      <td>31/12/2015</td>\n",
       "      <td>/2015/731766_10K_2015_0000731766-16-000058.json</td>\n",
       "      <td>True</td>\n",
       "      <td>Yes</td>\n",
       "      <td>False</td>\n",
       "      <td>test</td>\n",
       "      <td>NaN</td>\n",
       "      <td>NaN</td>\n",
       "      <td>NaN</td>\n",
       "      <td>2016-02-09</td>\n",
       "    </tr>\n",
       "    <tr>\n",
       "      <th>73154</th>\n",
       "      <td>755199.0</td>\n",
       "      <td>TRANSMONTAIGNE INC</td>\n",
       "      <td>2000-06-30</td>\n",
       "      <td>11747.0</td>\n",
       "      <td>30/06/2000</td>\n",
       "      <td>/2000/755199_10K_2000_0000927356-00-001824.json</td>\n",
       "      <td>True</td>\n",
       "      <td>Yes</td>\n",
       "      <td>False</td>\n",
       "      <td>train</td>\n",
       "      <td>NaN</td>\n",
       "      <td>NaN</td>\n",
       "      <td>NaN</td>\n",
       "      <td>2000-09-21</td>\n",
       "    </tr>\n",
       "    <tr>\n",
       "      <th>163536</th>\n",
       "      <td>1004702.0</td>\n",
       "      <td>OCEANFIRST FINANCIAL CORP</td>\n",
       "      <td>2007-12-31</td>\n",
       "      <td>63232.0</td>\n",
       "      <td>31/12/2007</td>\n",
       "      <td>/2007/1004702_10K_2007_0001193125-08-058535.json</td>\n",
       "      <td>True</td>\n",
       "      <td>Yes</td>\n",
       "      <td>False</td>\n",
       "      <td>train</td>\n",
       "      <td>NaN</td>\n",
       "      <td>NaN</td>\n",
       "      <td>NaN</td>\n",
       "      <td>2008-03-17</td>\n",
       "    </tr>\n",
       "    <tr>\n",
       "      <th>148081</th>\n",
       "      <td>935724.0</td>\n",
       "      <td>PMI GROUP INC</td>\n",
       "      <td>2005-12-31</td>\n",
       "      <td>31707.0</td>\n",
       "      <td>31/12/2005</td>\n",
       "      <td>/2005/935724_10K_2005_0001193125-06-053826.json</td>\n",
       "      <td>True</td>\n",
       "      <td>Yes</td>\n",
       "      <td>False</td>\n",
       "      <td>train</td>\n",
       "      <td>2011-11-23</td>\n",
       "      <td>NaN</td>\n",
       "      <td>NaN</td>\n",
       "      <td>2006-03-14</td>\n",
       "    </tr>\n",
       "    <tr>\n",
       "      <th>216934</th>\n",
       "      <td>1408198.0</td>\n",
       "      <td>MSCI INC.</td>\n",
       "      <td>2010-11-30</td>\n",
       "      <td>178507.0</td>\n",
       "      <td>30/11/2010</td>\n",
       "      <td>/2010/1408198_10K_2010_0001193125-11-017728.json</td>\n",
       "      <td>True</td>\n",
       "      <td>Yes</td>\n",
       "      <td>False</td>\n",
       "      <td>train</td>\n",
       "      <td>NaN</td>\n",
       "      <td>NaN</td>\n",
       "      <td>NaN</td>\n",
       "      <td>2011-01-31</td>\n",
       "    </tr>\n",
       "  </tbody>\n",
       "</table>\n",
       "</div>"
      ],
      "text/plain": [
       "              cik                    company period_of_report     gvkey  \\\n",
       "69844    731766.0     UNITEDHEALTH GROUP INC       2015-12-31   10903.0   \n",
       "73154    755199.0         TRANSMONTAIGNE INC       2000-06-30   11747.0   \n",
       "163536  1004702.0  OCEANFIRST FINANCIAL CORP       2007-12-31   63232.0   \n",
       "148081   935724.0              PMI GROUP INC       2005-12-31   31707.0   \n",
       "216934  1408198.0                  MSCI INC.       2010-11-30  178507.0   \n",
       "\n",
       "          datadate                                          filename  \\\n",
       "69844   31/12/2015   /2015/731766_10K_2015_0000731766-16-000058.json   \n",
       "73154   30/06/2000   /2000/755199_10K_2000_0000927356-00-001824.json   \n",
       "163536  31/12/2007  /2007/1004702_10K_2007_0001193125-08-058535.json   \n",
       "148081  31/12/2005   /2005/935724_10K_2005_0001193125-06-053826.json   \n",
       "216934  30/11/2010  /2010/1408198_10K_2010_0001193125-11-017728.json   \n",
       "\n",
       "        can_label qualified  label bankruptcy_prediction_split  \\\n",
       "69844        True       Yes  False                        test   \n",
       "73154        True       Yes  False                       train   \n",
       "163536       True       Yes  False                       train   \n",
       "148081       True       Yes  False                       train   \n",
       "216934       True       Yes  False                       train   \n",
       "\n",
       "       bankruptcy_date_1 bankruptcy_date_2 bankruptcy_date_3 filing_date  \n",
       "69844                NaN               NaN               NaN  2016-02-09  \n",
       "73154                NaN               NaN               NaN  2000-09-21  \n",
       "163536               NaN               NaN               NaN  2008-03-17  \n",
       "148081        2011-11-23               NaN               NaN  2006-03-14  \n",
       "216934               NaN               NaN               NaN  2011-01-31  "
      ]
     },
     "execution_count": 2,
     "metadata": {},
     "output_type": "execute_result"
    }
   ],
   "source": [
    "# read the ECL csv-file\n",
    "dataset = pd.read_csv('ECL.csv', index_col=0)\n",
    "dataset.sample(5)"
   ]
  },
  {
   "cell_type": "markdown",
   "id": "a2b36b02",
   "metadata": {},
   "source": [
    "#### Match with Compustat through WRDS API"
   ]
  },
  {
   "cell_type": "markdown",
   "id": "02323578",
   "metadata": {},
   "source": [
    "When working with the WRDS API for the Compustat data, the compustat_wrds() function can be used to match these records with the ECL csv-file. This function:\n",
    "- reads the Compustat file from the API (we use the \"comp_na_annual_all\" library and the \"funda\" table)\n",
    "- filters the Compustat file on screening variables (```datafmt```, ```indfmt```, ```consol``` and ```popsrc```)\n",
    "- matches the datasets on the ```gvkey``` and ```datadata``` variables"
   ]
  },
  {
   "cell_type": "code",
   "execution_count": null,
   "id": "ac72aad4",
   "metadata": {},
   "outputs": [],
   "source": [
    "# load data through API\n",
    "username = ''\n",
    "db = wrds.Connection(wrds_username=username)\n",
    "\n",
    "# select desired variables\n",
    "variables = 'ch, dt, act'\n",
    "\n",
    "# match datasets\n",
    "dataset = compustat_wrds(variables, dataset, db)"
   ]
  },
  {
   "cell_type": "code",
   "execution_count": 5,
   "id": "930d50e0",
   "metadata": {},
   "outputs": [
    {
     "data": {
      "text/html": [
       "<div>\n",
       "<style scoped>\n",
       "    .dataframe tbody tr th:only-of-type {\n",
       "        vertical-align: middle;\n",
       "    }\n",
       "\n",
       "    .dataframe tbody tr th {\n",
       "        vertical-align: top;\n",
       "    }\n",
       "\n",
       "    .dataframe thead th {\n",
       "        text-align: right;\n",
       "    }\n",
       "</style>\n",
       "<table border=\"1\" class=\"dataframe\">\n",
       "  <thead>\n",
       "    <tr style=\"text-align: right;\">\n",
       "      <th></th>\n",
       "      <th>cik</th>\n",
       "      <th>company</th>\n",
       "      <th>period_of_report</th>\n",
       "      <th>ch</th>\n",
       "      <th>dt</th>\n",
       "      <th>act</th>\n",
       "    </tr>\n",
       "  </thead>\n",
       "  <tbody>\n",
       "    <tr>\n",
       "      <th>106764</th>\n",
       "      <td>1002517.0</td>\n",
       "      <td>SCANSOFT INC</td>\n",
       "      <td>2002-12-31</td>\n",
       "      <td>18.853</td>\n",
       "      <td>0.000</td>\n",
       "      <td>40.429</td>\n",
       "    </tr>\n",
       "    <tr>\n",
       "      <th>82836</th>\n",
       "      <td>1672013.0</td>\n",
       "      <td>ACUSHNET HOLDINGS CORP.</td>\n",
       "      <td>2019-12-31</td>\n",
       "      <td>34.184</td>\n",
       "      <td>393.682</td>\n",
       "      <td>742.818</td>\n",
       "    </tr>\n",
       "    <tr>\n",
       "      <th>168089</th>\n",
       "      <td>1403528.0</td>\n",
       "      <td>OAKTREE CAPITAL GROUP, LLC</td>\n",
       "      <td>2013-12-31</td>\n",
       "      <td>NaN</td>\n",
       "      <td>579.464</td>\n",
       "      <td>NaN</td>\n",
       "    </tr>\n",
       "    <tr>\n",
       "      <th>147766</th>\n",
       "      <td>1174922.0</td>\n",
       "      <td>WYNN RESORTS LTD</td>\n",
       "      <td>2014-12-31</td>\n",
       "      <td>2182.164</td>\n",
       "      <td>7345.262</td>\n",
       "      <td>2782.331</td>\n",
       "    </tr>\n",
       "    <tr>\n",
       "      <th>62673</th>\n",
       "      <td>1339256.0</td>\n",
       "      <td>HOT MAMAS FOODS, INC.</td>\n",
       "      <td>2013-12-31</td>\n",
       "      <td>0.150</td>\n",
       "      <td>2.331</td>\n",
       "      <td>3.827</td>\n",
       "    </tr>\n",
       "  </tbody>\n",
       "</table>\n",
       "</div>"
      ],
      "text/plain": [
       "              cik                     company period_of_report        ch  \\\n",
       "106764  1002517.0                SCANSOFT INC       2002-12-31    18.853   \n",
       "82836   1672013.0     ACUSHNET HOLDINGS CORP.       2019-12-31    34.184   \n",
       "168089  1403528.0  OAKTREE CAPITAL GROUP, LLC       2013-12-31       NaN   \n",
       "147766  1174922.0            WYNN RESORTS LTD       2014-12-31  2182.164   \n",
       "62673   1339256.0       HOT MAMAS FOODS, INC.       2013-12-31     0.150   \n",
       "\n",
       "              dt       act  \n",
       "106764     0.000    40.429  \n",
       "82836    393.682   742.818  \n",
       "168089   579.464       NaN  \n",
       "147766  7345.262  2782.331  \n",
       "62673      2.331     3.827  "
      ]
     },
     "execution_count": 5,
     "metadata": {},
     "output_type": "execute_result"
    }
   ],
   "source": [
    "# inspect\n",
    "dataset.sample(5)[['cik', 'company', 'period_of_report', 'ch', 'dt', 'act']]"
   ]
  },
  {
   "cell_type": "markdown",
   "id": "b0b0c703",
   "metadata": {},
   "source": [
    "#### Match with local Compustat file"
   ]
  },
  {
   "cell_type": "markdown",
   "id": "a3b4604f",
   "metadata": {},
   "source": [
    "When working with a local copy of the Compustat data, the compustat_local() function can be used to match these records with the ECL csv-file. This function:\n",
    "- reads the local Compustat file\n",
    "- filters the Compustat file on screening variables (```datafmt```, ```indfmt```, ```consol``` and ```popsrc```)\n",
    "- matches the datasets on the ```gvkey``` and ```datadata``` variables"
   ]
  },
  {
   "cell_type": "code",
   "execution_count": 3,
   "id": "9fb63c77",
   "metadata": {
    "scrolled": true
   },
   "outputs": [
    {
     "name": "stdout",
     "output_type": "stream",
     "text": [
      "Dropped 115373 rows from CompuStat based on screening variables\n",
      "0 records in the dataset do not have an accompanying CompuStat record.\n"
     ]
    }
   ],
   "source": [
    "# load data and match datasets\n",
    "path = './data/CompuStat/data.csv'\n",
    "dataset = compustat_local(path, dataset, update=False)"
   ]
  },
  {
   "cell_type": "code",
   "execution_count": 4,
   "id": "2c851de4",
   "metadata": {},
   "outputs": [
    {
     "data": {
      "text/html": [
       "<div>\n",
       "<style scoped>\n",
       "    .dataframe tbody tr th:only-of-type {\n",
       "        vertical-align: middle;\n",
       "    }\n",
       "\n",
       "    .dataframe tbody tr th {\n",
       "        vertical-align: top;\n",
       "    }\n",
       "\n",
       "    .dataframe thead th {\n",
       "        text-align: right;\n",
       "    }\n",
       "</style>\n",
       "<table border=\"1\" class=\"dataframe\">\n",
       "  <thead>\n",
       "    <tr style=\"text-align: right;\">\n",
       "      <th></th>\n",
       "      <th>cik</th>\n",
       "      <th>company</th>\n",
       "      <th>period_of_report</th>\n",
       "      <th>ch</th>\n",
       "      <th>dt</th>\n",
       "      <th>act</th>\n",
       "    </tr>\n",
       "  </thead>\n",
       "  <tbody>\n",
       "    <tr>\n",
       "      <th>57284</th>\n",
       "      <td>842162.0</td>\n",
       "      <td>LEAR CORP /DE/</td>\n",
       "      <td>2003-12-31</td>\n",
       "      <td>169.300</td>\n",
       "      <td>2061.200</td>\n",
       "      <td>3375.400</td>\n",
       "    </tr>\n",
       "    <tr>\n",
       "      <th>59489</th>\n",
       "      <td>846931.0</td>\n",
       "      <td>NEW HAMPSHIRE THRIFT BANCSHARES INC</td>\n",
       "      <td>2009-12-31</td>\n",
       "      <td>20.339</td>\n",
       "      <td>NaN</td>\n",
       "      <td>NaN</td>\n",
       "    </tr>\n",
       "    <tr>\n",
       "      <th>153249</th>\n",
       "      <td>1297989.0</td>\n",
       "      <td>EXLSERVICE HOLDINGS, INC.</td>\n",
       "      <td>2018-12-31</td>\n",
       "      <td>95.881</td>\n",
       "      <td>285.202</td>\n",
       "      <td>499.935</td>\n",
       "    </tr>\n",
       "    <tr>\n",
       "      <th>84348</th>\n",
       "      <td>896159.0</td>\n",
       "      <td>ACE LTD</td>\n",
       "      <td>1996-09-30</td>\n",
       "      <td>53.374</td>\n",
       "      <td>NaN</td>\n",
       "      <td>NaN</td>\n",
       "    </tr>\n",
       "    <tr>\n",
       "      <th>37352</th>\n",
       "      <td>98827.0</td>\n",
       "      <td>TOWER PROPERTIES CO</td>\n",
       "      <td>2001-12-31</td>\n",
       "      <td>3.828</td>\n",
       "      <td>57.280</td>\n",
       "      <td>NaN</td>\n",
       "    </tr>\n",
       "  </tbody>\n",
       "</table>\n",
       "</div>"
      ],
      "text/plain": [
       "              cik                              company period_of_report  \\\n",
       "57284    842162.0                       LEAR CORP /DE/       2003-12-31   \n",
       "59489    846931.0  NEW HAMPSHIRE THRIFT BANCSHARES INC       2009-12-31   \n",
       "153249  1297989.0            EXLSERVICE HOLDINGS, INC.       2018-12-31   \n",
       "84348    896159.0                              ACE LTD       1996-09-30   \n",
       "37352     98827.0                  TOWER PROPERTIES CO       2001-12-31   \n",
       "\n",
       "             ch        dt       act  \n",
       "57284   169.300  2061.200  3375.400  \n",
       "59489    20.339       NaN       NaN  \n",
       "153249   95.881   285.202   499.935  \n",
       "84348    53.374       NaN       NaN  \n",
       "37352     3.828    57.280       NaN  "
      ]
     },
     "execution_count": 4,
     "metadata": {},
     "output_type": "execute_result"
    }
   ],
   "source": [
    "# inspect\n",
    "dataset.sample(5)[['cik', 'company', 'period_of_report', 'ch', 'dt', 'act']]"
   ]
  },
  {
   "cell_type": "markdown",
   "id": "4950d389",
   "metadata": {},
   "source": [
    "#### Match with Edgar corpus"
   ]
  },
  {
   "cell_type": "markdown",
   "id": "bd0f190d",
   "metadata": {},
   "source": [
    "The ECL data can be matched with a document in the Edgar corpus through the ```filename``` variable."
   ]
  },
  {
   "cell_type": "code",
   "execution_count": 8,
   "id": "61be46f2",
   "metadata": {},
   "outputs": [],
   "source": [
    "# get filename for example company\n",
    "corpus_path = './data'\n",
    "file = dataset.loc[dataset['cik'] == 1318605, 'filename'].iloc[-1]\n",
    "\n",
    "# read\n",
    "with open(corpus_path + file) as fp:\n",
    "    text = json.load(fp)"
   ]
  },
  {
   "cell_type": "code",
   "execution_count": 9,
   "id": "ba6696fa",
   "metadata": {
    "scrolled": false
   },
   "outputs": [
    {
     "name": "stdout",
     "output_type": "stream",
     "text": [
      "Our mission is to accelerate the world’s transition to sustainable energy. We design, develop, manufacture, lease and sell high-performance fully electric vehicles, solar energy generation systems and energy storage products. We also offer maintenance, installation, operation, financial and other services related to our products. Additionally, we are increasingly focused on products and services based on artificial intelligence, robotics and automation.\n",
      "In 2022, we produced 1,369,611 consumer vehicles and delivered 1,313,851 consumer vehicles, despite ongoing supply chain and logistics challenges and factory shutdowns. We are currently focused on increasing vehicle production, capacity and delivery capabilities, improving and developing battery technologies, improving our FSD capabilities, increasing the affordability and efficiency of our vehicles, bringing new products to market and ...\n"
     ]
    }
   ],
   "source": [
    "# inspect\n",
    "print(text['item_7'][802:1700] + '...')"
   ]
  },
  {
   "cell_type": "code",
   "execution_count": null,
   "id": "3ac593f2",
   "metadata": {},
   "outputs": [],
   "source": []
  }
 ],
 "metadata": {
  "kernelspec": {
   "display_name": "Python 3 (ipykernel)",
   "language": "python",
   "name": "python3"
  },
  "language_info": {
   "codemirror_mode": {
    "name": "ipython",
    "version": 3
   },
   "file_extension": ".py",
   "mimetype": "text/x-python",
   "name": "python",
   "nbconvert_exporter": "python",
   "pygments_lexer": "ipython3",
   "version": "3.11.3"
  }
 },
 "nbformat": 4,
 "nbformat_minor": 5
}
