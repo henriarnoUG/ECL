{
 "cells": [
  {
   "cell_type": "code",
   "execution_count": 1,
   "id": "1f8dea3a",
   "metadata": {},
   "outputs": [],
   "source": [
    "# import library\n",
    "from library import *\n",
    "\n",
    "# filter the warnings for clarity\n",
    "import warnings\n",
    "warnings.filterwarnings(\"ignore\")"
   ]
  },
  {
   "cell_type": "markdown",
   "id": "6e6e451b",
   "metadata": {},
   "source": [
    "In this notebook, we show how to reconstruct the ECL benchmark dataset. This dataset combines three existing data sources: the Edgar corpus, Compustat and the Lopucki bankruptcy research database. Due to the paid access required for Compustat, we are unable to share the complete benchmark dataset. However, here we provide the necessary code that allows you to reconstruct the dataset.\n",
    "\n",
    "In the ECL csv-file (see the repository readme), each row corresponds to a 10K filing. Each 10K filing can be matched (1) with a document from the Edgar corpus through the ```filename``` variable and (2) with an entry from Compustat through the ```gvkey``` and ```datadate``` variables. See the repository readme for access to the Edgar corpus and Compustat."
   ]
  },
  {
   "cell_type": "code",
   "execution_count": 3,
   "id": "24520c7e",
   "metadata": {
    "scrolled": true
   },
   "outputs": [
    {
     "data": {
      "text/html": [
       "<div>\n",
       "<style scoped>\n",
       "    .dataframe tbody tr th:only-of-type {\n",
       "        vertical-align: middle;\n",
       "    }\n",
       "\n",
       "    .dataframe tbody tr th {\n",
       "        vertical-align: top;\n",
       "    }\n",
       "\n",
       "    .dataframe thead th {\n",
       "        text-align: right;\n",
       "    }\n",
       "</style>\n",
       "<table border=\"1\" class=\"dataframe\">\n",
       "  <thead>\n",
       "    <tr style=\"text-align: right;\">\n",
       "      <th></th>\n",
       "      <th>cik</th>\n",
       "      <th>company</th>\n",
       "      <th>period_of_report</th>\n",
       "      <th>gvkey</th>\n",
       "      <th>datadate</th>\n",
       "      <th>filename</th>\n",
       "      <th>can_label</th>\n",
       "      <th>qualified</th>\n",
       "      <th>label</th>\n",
       "      <th>bankruptcy_prediction_split</th>\n",
       "      <th>bankruptcy_date_1</th>\n",
       "      <th>bankruptcy_date_2</th>\n",
       "      <th>bankruptcy_date_3</th>\n",
       "      <th>filing_date</th>\n",
       "    </tr>\n",
       "  </thead>\n",
       "  <tbody>\n",
       "    <tr>\n",
       "      <th>219964</th>\n",
       "      <td>1447051.0</td>\n",
       "      <td>TERRITORIAL BANCORP INC.</td>\n",
       "      <td>2019-12-31</td>\n",
       "      <td>183247.0</td>\n",
       "      <td>31/12/2019</td>\n",
       "      <td>/2019/1447051_10K_2019_0001558370-20-002628.json</td>\n",
       "      <td>True</td>\n",
       "      <td>Yes</td>\n",
       "      <td>False</td>\n",
       "      <td>test</td>\n",
       "      <td>NaN</td>\n",
       "      <td>NaN</td>\n",
       "      <td>NaN</td>\n",
       "      <td>2020-03-13</td>\n",
       "    </tr>\n",
       "    <tr>\n",
       "      <th>49126</th>\n",
       "      <td>50601.0</td>\n",
       "      <td>INNOVEX INC</td>\n",
       "      <td>2004-09-30</td>\n",
       "      <td>5973.0</td>\n",
       "      <td>30/09/2004</td>\n",
       "      <td>/2004/50601_10K_2004_0001206774-04-001710.json</td>\n",
       "      <td>True</td>\n",
       "      <td>No</td>\n",
       "      <td>False</td>\n",
       "      <td>out-of-scope</td>\n",
       "      <td>NaN</td>\n",
       "      <td>NaN</td>\n",
       "      <td>NaN</td>\n",
       "      <td>2004-12-07</td>\n",
       "    </tr>\n",
       "    <tr>\n",
       "      <th>190534</th>\n",
       "      <td>1080034.0</td>\n",
       "      <td>VALUECLICK INC/CA</td>\n",
       "      <td>2007-12-31</td>\n",
       "      <td>133547.0</td>\n",
       "      <td>31/12/2007</td>\n",
       "      <td>/2007/1080034_10K_2007_0001047469-08-002074.json</td>\n",
       "      <td>True</td>\n",
       "      <td>Yes</td>\n",
       "      <td>False</td>\n",
       "      <td>train</td>\n",
       "      <td>NaN</td>\n",
       "      <td>NaN</td>\n",
       "      <td>NaN</td>\n",
       "      <td>2008-02-29</td>\n",
       "    </tr>\n",
       "    <tr>\n",
       "      <th>50778</th>\n",
       "      <td>54473.0</td>\n",
       "      <td>KANSAS CITY LIFE INSURANCE CO</td>\n",
       "      <td>2011-12-31</td>\n",
       "      <td>6333.0</td>\n",
       "      <td>31/12/2011</td>\n",
       "      <td>/2011/54473_10K_2011_0001193125-12-089295.json</td>\n",
       "      <td>True</td>\n",
       "      <td>Yes</td>\n",
       "      <td>False</td>\n",
       "      <td>train</td>\n",
       "      <td>NaN</td>\n",
       "      <td>NaN</td>\n",
       "      <td>NaN</td>\n",
       "      <td>2012-02-29</td>\n",
       "    </tr>\n",
       "    <tr>\n",
       "      <th>104975</th>\n",
       "      <td>810270.0</td>\n",
       "      <td>EXUS NETWORKS  INC</td>\n",
       "      <td>2002-12-31</td>\n",
       "      <td>20216.0</td>\n",
       "      <td>31/12/2002</td>\n",
       "      <td>/2002/810270_10KSB_2002_0001172665-03-000124.json</td>\n",
       "      <td>True</td>\n",
       "      <td>No</td>\n",
       "      <td>False</td>\n",
       "      <td>out-of-scope</td>\n",
       "      <td>NaN</td>\n",
       "      <td>NaN</td>\n",
       "      <td>NaN</td>\n",
       "      <td>2003-05-01</td>\n",
       "    </tr>\n",
       "  </tbody>\n",
       "</table>\n",
       "</div>"
      ],
      "text/plain": [
       "              cik                        company period_of_report     gvkey  \\\n",
       "219964  1447051.0       TERRITORIAL BANCORP INC.       2019-12-31  183247.0   \n",
       "49126     50601.0                    INNOVEX INC       2004-09-30    5973.0   \n",
       "190534  1080034.0              VALUECLICK INC/CA       2007-12-31  133547.0   \n",
       "50778     54473.0  KANSAS CITY LIFE INSURANCE CO       2011-12-31    6333.0   \n",
       "104975   810270.0             EXUS NETWORKS  INC       2002-12-31   20216.0   \n",
       "\n",
       "          datadate                                           filename  \\\n",
       "219964  31/12/2019   /2019/1447051_10K_2019_0001558370-20-002628.json   \n",
       "49126   30/09/2004     /2004/50601_10K_2004_0001206774-04-001710.json   \n",
       "190534  31/12/2007   /2007/1080034_10K_2007_0001047469-08-002074.json   \n",
       "50778   31/12/2011     /2011/54473_10K_2011_0001193125-12-089295.json   \n",
       "104975  31/12/2002  /2002/810270_10KSB_2002_0001172665-03-000124.json   \n",
       "\n",
       "        can_label qualified  label bankruptcy_prediction_split  \\\n",
       "219964       True       Yes  False                        test   \n",
       "49126        True        No  False                out-of-scope   \n",
       "190534       True       Yes  False                       train   \n",
       "50778        True       Yes  False                       train   \n",
       "104975       True        No  False                out-of-scope   \n",
       "\n",
       "       bankruptcy_date_1 bankruptcy_date_2 bankruptcy_date_3 filing_date  \n",
       "219964               NaN               NaN               NaN  2020-03-13  \n",
       "49126                NaN               NaN               NaN  2004-12-07  \n",
       "190534               NaN               NaN               NaN  2008-02-29  \n",
       "50778                NaN               NaN               NaN  2012-02-29  \n",
       "104975               NaN               NaN               NaN  2003-05-01  "
      ]
     },
     "execution_count": 3,
     "metadata": {},
     "output_type": "execute_result"
    }
   ],
   "source": [
    "# specify path\n",
    "path_ECL = '../bankruptcy research data/ECL.csv' # change path to correct location\n",
    "\n",
    "# read data \n",
    "dataset = pd.read_csv(path_ECL, index_col=0)\n",
    "dataset.sample(5)"
   ]
  },
  {
   "cell_type": "markdown",
   "id": "a2b36b02",
   "metadata": {},
   "source": [
    "#### Match with Compustat through WRDS API"
   ]
  },
  {
   "cell_type": "markdown",
   "id": "02323578",
   "metadata": {},
   "source": [
    "When working with the WRDS API for the Compustat data, the compustat_wrds() function can be used to match these records with the ECL csv-file. This function:\n",
    "- reads the Compustat file from the API (we use the \"comp_na_annual_all\" library and the \"funda\" table)\n",
    "- filters the Compustat file on screening variables (```datafmt```, ```indfmt```, ```consol``` and ```popsrc```)\n",
    "- matches the datasets on the ```gvkey``` and ```datadata``` variables"
   ]
  },
  {
   "cell_type": "code",
   "execution_count": null,
   "id": "ac72aad4",
   "metadata": {},
   "outputs": [],
   "source": [
    "# load data through API\n",
    "username = ''\n",
    "db = wrds.Connection(wrds_username=username)\n",
    "\n",
    "# select desired variables\n",
    "variables = 'ch, dt, act'\n",
    "\n",
    "# match datasets\n",
    "dataset = compustat_wrds(variables, dataset, db)"
   ]
  },
  {
   "cell_type": "code",
   "execution_count": 5,
   "id": "930d50e0",
   "metadata": {},
   "outputs": [
    {
     "data": {
      "text/html": [
       "<div>\n",
       "<style scoped>\n",
       "    .dataframe tbody tr th:only-of-type {\n",
       "        vertical-align: middle;\n",
       "    }\n",
       "\n",
       "    .dataframe tbody tr th {\n",
       "        vertical-align: top;\n",
       "    }\n",
       "\n",
       "    .dataframe thead th {\n",
       "        text-align: right;\n",
       "    }\n",
       "</style>\n",
       "<table border=\"1\" class=\"dataframe\">\n",
       "  <thead>\n",
       "    <tr style=\"text-align: right;\">\n",
       "      <th></th>\n",
       "      <th>cik</th>\n",
       "      <th>company</th>\n",
       "      <th>period_of_report</th>\n",
       "      <th>ch</th>\n",
       "      <th>dt</th>\n",
       "      <th>act</th>\n",
       "    </tr>\n",
       "  </thead>\n",
       "  <tbody>\n",
       "    <tr>\n",
       "      <th>106764</th>\n",
       "      <td>1002517.0</td>\n",
       "      <td>SCANSOFT INC</td>\n",
       "      <td>2002-12-31</td>\n",
       "      <td>18.853</td>\n",
       "      <td>0.000</td>\n",
       "      <td>40.429</td>\n",
       "    </tr>\n",
       "    <tr>\n",
       "      <th>82836</th>\n",
       "      <td>1672013.0</td>\n",
       "      <td>ACUSHNET HOLDINGS CORP.</td>\n",
       "      <td>2019-12-31</td>\n",
       "      <td>34.184</td>\n",
       "      <td>393.682</td>\n",
       "      <td>742.818</td>\n",
       "    </tr>\n",
       "    <tr>\n",
       "      <th>168089</th>\n",
       "      <td>1403528.0</td>\n",
       "      <td>OAKTREE CAPITAL GROUP, LLC</td>\n",
       "      <td>2013-12-31</td>\n",
       "      <td>NaN</td>\n",
       "      <td>579.464</td>\n",
       "      <td>NaN</td>\n",
       "    </tr>\n",
       "    <tr>\n",
       "      <th>147766</th>\n",
       "      <td>1174922.0</td>\n",
       "      <td>WYNN RESORTS LTD</td>\n",
       "      <td>2014-12-31</td>\n",
       "      <td>2182.164</td>\n",
       "      <td>7345.262</td>\n",
       "      <td>2782.331</td>\n",
       "    </tr>\n",
       "    <tr>\n",
       "      <th>62673</th>\n",
       "      <td>1339256.0</td>\n",
       "      <td>HOT MAMAS FOODS, INC.</td>\n",
       "      <td>2013-12-31</td>\n",
       "      <td>0.150</td>\n",
       "      <td>2.331</td>\n",
       "      <td>3.827</td>\n",
       "    </tr>\n",
       "  </tbody>\n",
       "</table>\n",
       "</div>"
      ],
      "text/plain": [
       "              cik                     company period_of_report        ch  \\\n",
       "106764  1002517.0                SCANSOFT INC       2002-12-31    18.853   \n",
       "82836   1672013.0     ACUSHNET HOLDINGS CORP.       2019-12-31    34.184   \n",
       "168089  1403528.0  OAKTREE CAPITAL GROUP, LLC       2013-12-31       NaN   \n",
       "147766  1174922.0            WYNN RESORTS LTD       2014-12-31  2182.164   \n",
       "62673   1339256.0       HOT MAMAS FOODS, INC.       2013-12-31     0.150   \n",
       "\n",
       "              dt       act  \n",
       "106764     0.000    40.429  \n",
       "82836    393.682   742.818  \n",
       "168089   579.464       NaN  \n",
       "147766  7345.262  2782.331  \n",
       "62673      2.331     3.827  "
      ]
     },
     "execution_count": 5,
     "metadata": {},
     "output_type": "execute_result"
    }
   ],
   "source": [
    "# inspect\n",
    "dataset.sample(5)[['cik', 'company', 'period_of_report', 'ch', 'dt', 'act']]"
   ]
  },
  {
   "cell_type": "markdown",
   "id": "b0b0c703",
   "metadata": {},
   "source": [
    "#### Match with local Compustat file"
   ]
  },
  {
   "cell_type": "markdown",
   "id": "a3b4604f",
   "metadata": {},
   "source": [
    "When working with a local copy of the Compustat data, the compustat_local() function can be used to match these records with the ECL csv-file. This function:\n",
    "- reads the local Compustat file\n",
    "- filters the Compustat file on screening variables (```datafmt```, ```indfmt```, ```consol``` and ```popsrc```)\n",
    "- matches the datasets on the ```gvkey``` and ```datadata``` variables"
   ]
  },
  {
   "cell_type": "code",
   "execution_count": null,
   "id": "9fb63c77",
   "metadata": {
    "scrolled": true
   },
   "outputs": [],
   "source": [
    "# load data and match datasets\n",
    "path = '../bankruptcy research data/Compustat/data.csv' # change path to correct location\n",
    "dataset = compustat_local(path, dataset, update=False)"
   ]
  },
  {
   "cell_type": "code",
   "execution_count": 4,
   "id": "2c851de4",
   "metadata": {},
   "outputs": [
    {
     "data": {
      "text/html": [
       "<div>\n",
       "<style scoped>\n",
       "    .dataframe tbody tr th:only-of-type {\n",
       "        vertical-align: middle;\n",
       "    }\n",
       "\n",
       "    .dataframe tbody tr th {\n",
       "        vertical-align: top;\n",
       "    }\n",
       "\n",
       "    .dataframe thead th {\n",
       "        text-align: right;\n",
       "    }\n",
       "</style>\n",
       "<table border=\"1\" class=\"dataframe\">\n",
       "  <thead>\n",
       "    <tr style=\"text-align: right;\">\n",
       "      <th></th>\n",
       "      <th>cik</th>\n",
       "      <th>company</th>\n",
       "      <th>period_of_report</th>\n",
       "      <th>ch</th>\n",
       "      <th>dt</th>\n",
       "      <th>act</th>\n",
       "    </tr>\n",
       "  </thead>\n",
       "  <tbody>\n",
       "    <tr>\n",
       "      <th>100975</th>\n",
       "      <td>1731289.0</td>\n",
       "      <td>NIKOLA CORP</td>\n",
       "      <td>2021-12-31</td>\n",
       "      <td>497.241</td>\n",
       "      <td>27.925</td>\n",
       "      <td>524.729</td>\n",
       "    </tr>\n",
       "    <tr>\n",
       "      <th>29804</th>\n",
       "      <td>278130.0</td>\n",
       "      <td>PIER 1 IMPORTS INC/DE</td>\n",
       "      <td>2006-02-25</td>\n",
       "      <td>246.115</td>\n",
       "      <td>184.000</td>\n",
       "      <td>774.923</td>\n",
       "    </tr>\n",
       "    <tr>\n",
       "      <th>126625</th>\n",
       "      <td>1053369.0</td>\n",
       "      <td>ELITE PHARMACEUTICALS INC /DE/</td>\n",
       "      <td>2003-03-31</td>\n",
       "      <td>3.264</td>\n",
       "      <td>2.934</td>\n",
       "      <td>3.500</td>\n",
       "    </tr>\n",
       "    <tr>\n",
       "      <th>142106</th>\n",
       "      <td>1120295.0</td>\n",
       "      <td>IXIA</td>\n",
       "      <td>2007-12-31</td>\n",
       "      <td>188.892</td>\n",
       "      <td>0.000</td>\n",
       "      <td>248.025</td>\n",
       "    </tr>\n",
       "    <tr>\n",
       "      <th>166253</th>\n",
       "      <td>1564822.0</td>\n",
       "      <td>PINNACLE FOODS INC.</td>\n",
       "      <td>2015-12-27</td>\n",
       "      <td>180.549</td>\n",
       "      <td>2287.779</td>\n",
       "      <td>857.634</td>\n",
       "    </tr>\n",
       "  </tbody>\n",
       "</table>\n",
       "</div>"
      ],
      "text/plain": [
       "              cik                         company period_of_report       ch  \\\n",
       "100975  1731289.0                     NIKOLA CORP       2021-12-31  497.241   \n",
       "29804    278130.0           PIER 1 IMPORTS INC/DE       2006-02-25  246.115   \n",
       "126625  1053369.0  ELITE PHARMACEUTICALS INC /DE/       2003-03-31    3.264   \n",
       "142106  1120295.0                            IXIA       2007-12-31  188.892   \n",
       "166253  1564822.0             PINNACLE FOODS INC.       2015-12-27  180.549   \n",
       "\n",
       "              dt      act  \n",
       "100975    27.925  524.729  \n",
       "29804    184.000  774.923  \n",
       "126625     2.934    3.500  \n",
       "142106     0.000  248.025  \n",
       "166253  2287.779  857.634  "
      ]
     },
     "execution_count": 4,
     "metadata": {},
     "output_type": "execute_result"
    }
   ],
   "source": [
    "# inspect\n",
    "dataset.sample(5)[['cik', 'company', 'period_of_report', 'ch', 'dt', 'act']]"
   ]
  },
  {
   "cell_type": "markdown",
   "id": "4950d389",
   "metadata": {},
   "source": [
    "#### Match with Edgar corpus"
   ]
  },
  {
   "cell_type": "markdown",
   "id": "bd0f190d",
   "metadata": {},
   "source": [
    "The ECL data can be matched with a document in the Edgar corpus through the ```filename``` variable."
   ]
  },
  {
   "cell_type": "code",
   "execution_count": 8,
   "id": "61be46f2",
   "metadata": {},
   "outputs": [],
   "source": [
    "# get filename for example company\n",
    "corpus_path = '../bankruptcy research data/original_corpus'\n",
    "file = dataset.loc[dataset['cik'] == 1318605, 'filename'].iloc[-1]\n",
    "\n",
    "# read\n",
    "with open(corpus_path + file) as fp:\n",
    "    text = json.load(fp)"
   ]
  },
  {
   "cell_type": "code",
   "execution_count": 9,
   "id": "ba6696fa",
   "metadata": {
    "scrolled": false
   },
   "outputs": [
    {
     "name": "stdout",
     "output_type": "stream",
     "text": [
      "Our mission is to accelerate the world’s transition to sustainable energy. We design, develop, manufacture, lease and sell high-performance fully electric vehicles, solar energy generation systems and energy storage products. We also offer maintenance, installation, operation, financial and other services related to our products. Additionally, we are increasingly focused on products and services based on artificial intelligence, robotics and automation.\n",
      "In 2022, we produced 1,369,611 consumer vehicles and delivered 1,313,851 consumer vehicles, despite ongoing supply chain and logistics challenges and factory shutdowns. We are currently focused on increasing vehicle production, capacity and delivery capabilities, improving and developing battery technologies, improving our FSD capabilities, increasing the affordability and efficiency of our vehicles, bringing new products to market and ...\n"
     ]
    }
   ],
   "source": [
    "# inspect\n",
    "print(text['item_7'][802:1700] + '...')"
   ]
  },
  {
   "cell_type": "code",
   "execution_count": null,
   "id": "3ac593f2",
   "metadata": {},
   "outputs": [],
   "source": []
  }
 ],
 "metadata": {
  "kernelspec": {
   "display_name": "Python 3 (ipykernel)",
   "language": "python",
   "name": "python3"
  },
  "language_info": {
   "codemirror_mode": {
    "name": "ipython",
    "version": 3
   },
   "file_extension": ".py",
   "mimetype": "text/x-python",
   "name": "python",
   "nbconvert_exporter": "python",
   "pygments_lexer": "ipython3",
   "version": "3.8.8"
  }
 },
 "nbformat": 4,
 "nbformat_minor": 5
}
